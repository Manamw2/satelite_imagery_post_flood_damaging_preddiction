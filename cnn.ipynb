{
 "cells": [
  {
   "cell_type": "code",
   "execution_count": 22,
   "metadata": {},
   "outputs": [
    {
     "name": "stdout",
     "output_type": "stream",
     "text": [
      "Using device: cuda\n"
     ]
    }
   ],
   "source": [
    "import torch\n",
    "import torch.nn as nn\n",
    "import torch.optim as optim\n",
    "import torchvision.transforms as transforms\n",
    "from torchvision.datasets import ImageFolder\n",
    "from torchvision.transforms import ToTensor, Resize, Compose\n",
    "\n",
    "# check if CUDA is available\n",
    "device = torch.device('cuda' if torch.cuda.is_available() else 'cpu')\n",
    "print('Using device:', device)\n"
   ]
  },
  {
   "cell_type": "code",
   "execution_count": 23,
   "metadata": {},
   "outputs": [],
   "source": [
    "# Define the CNN architecture\n",
    "\n",
    "\n",
    "class Net(nn.Module):\n",
    "    def __init__(self):\n",
    "        \"\"\"\n",
    "        CNN Architecture: 2 convolutional layers, 1 max pool, 2 fully connected layer, \n",
    "        and final fully connected layer to classify 10 different classes\n",
    "        \"\"\"\n",
    "        super(Net, self).__init__()\n",
    "        self.conv1 = nn.Conv2d(3, 32, kernel_size=3, padding=1)\n",
    "        self.conv2 = nn.Conv2d(32, 64, kernel_size=3, padding=1)\n",
    "        self.conv3 = nn.Conv2d(64, 128, kernel_size=3, padding=1)\n",
    "        self.pool = nn.MaxPool2d(kernel_size=2, stride=2)\n",
    "        self.fc1 = nn.Linear(128 * 16 * 16, 512)\n",
    "        self.fc2 = nn.Linear(512, 2)\n",
    "\n",
    "    def forward(self, x):\n",
    "        \"\"\"\n",
    "        Defines the forward pass of the network.\n",
    "        \"\"\"\n",
    "        x = nn.functional.relu(self.conv1(x))\n",
    "        x = self.pool(nn.functional.relu(self.conv2(x)))\n",
    "        x = self.pool(nn.functional.relu(self.conv3(x)))\n",
    "        x = x.view(-1, 128 * 16 * 16)\n",
    "        x = nn.functional.relu(self.fc1(x))\n",
    "        x = nn.functional.dropout(x, p=0.5, training=self.training)\n",
    "        x = self.fc2(x)\n",
    "        return x\n"
   ]
  },
  {
   "cell_type": "code",
   "execution_count": 24,
   "metadata": {},
   "outputs": [],
   "source": [
    "data_dir = \"/home/bishoy/Fourth Year/Second Semester/Satellite Imagery/SI_Project/datasetResNet/train\"\n",
    "transformation = Compose([Resize((64, 64)), ToTensor()])\n",
    "dataset = ImageFolder(data_dir, transform=transformation)\n"
   ]
  },
  {
   "cell_type": "code",
   "execution_count": 25,
   "metadata": {},
   "outputs": [
    {
     "name": "stdout",
     "output_type": "stream",
     "text": [
      "Number of training samples:  732\n"
     ]
    }
   ],
   "source": [
    "# use the whole dataset to train the model\n",
    "train_set = dataset\n",
    "train_loader = torch.utils.data.DataLoader(\n",
    "    train_set, batch_size=4, shuffle=True)\n",
    "print(\"Number of training samples: \", len(train_set))\n"
   ]
  },
  {
   "cell_type": "code",
   "execution_count": 28,
   "metadata": {},
   "outputs": [],
   "source": [
    "# Define the loss function and optimizer\n",
    "net = Net()\n",
    "net = net.to(device)\n",
    "criterion = nn.CrossEntropyLoss()\n",
    "optimizer = optim.SGD(net.parameters(), lr=0.001, momentum=0.9)\n"
   ]
  },
  {
   "cell_type": "code",
   "execution_count": 29,
   "metadata": {},
   "outputs": [
    {
     "name": "stdout",
     "output_type": "stream",
     "text": [
      "[1,   100] loss: 0.697\n",
      "[2,   100] loss: 0.692\n",
      "[3,   100] loss: 0.688\n",
      "[4,   100] loss: 0.673\n",
      "[5,   100] loss: 0.648\n",
      "[6,   100] loss: 0.636\n",
      "[7,   100] loss: 0.608\n",
      "[8,   100] loss: 0.599\n",
      "[9,   100] loss: 0.577\n",
      "[10,   100] loss: 0.566\n",
      "[11,   100] loss: 0.568\n",
      "[12,   100] loss: 0.544\n",
      "[13,   100] loss: 0.531\n",
      "[14,   100] loss: 0.475\n",
      "[15,   100] loss: 0.491\n",
      "[16,   100] loss: 0.393\n",
      "[17,   100] loss: 0.427\n",
      "[18,   100] loss: 0.418\n",
      "[19,   100] loss: 0.431\n",
      "[20,   100] loss: 0.382\n",
      "[21,   100] loss: 0.344\n",
      "[22,   100] loss: 0.320\n",
      "[23,   100] loss: 0.286\n",
      "[24,   100] loss: 0.261\n",
      "[25,   100] loss: 0.248\n",
      "Finished Training\n"
     ]
    }
   ],
   "source": [
    "# Train the network\n",
    "for epoch in range(25):\n",
    "    running_loss = 0.0\n",
    "    for i, data in enumerate(train_loader, 0):\n",
    "        inputs, labels = data\n",
    "        # move the data to the GPU\n",
    "        inputs = inputs.to(device)\n",
    "        labels = labels.to(device)\n",
    "\n",
    "        optimizer.zero_grad()\n",
    "\n",
    "        outputs = net(inputs)\n",
    "        loss = criterion(outputs, labels)\n",
    "        loss.backward()\n",
    "        optimizer.step()\n",
    "\n",
    "        running_loss += loss.item()\n",
    "        if i % 100 == 99:\n",
    "            print('[%d, %5d] loss: %.3f' %\n",
    "                  (epoch + 1, i + 1, running_loss / 100))\n",
    "            running_loss = 0.0\n",
    "\n",
    "print('Finished Training')\n"
   ]
  },
  {
   "cell_type": "code",
   "execution_count": null,
   "metadata": {},
   "outputs": [],
   "source": [
    "# Test the network on the test data\n",
    "# correct = 0\n",
    "# total = 0\n",
    "# with torch.no_grad():\n",
    "#     for data in test_loader:\n",
    "#         images, labels = data\n",
    "#         # move the data to the GPU\n",
    "#         images = images.to(device)\n",
    "#         labels = labels.to(device)\n",
    "#         outputs = net(images)\n",
    "#         _, predicted = torch.max(outputs.data, 1)\n",
    "#         total += labels.size(0)\n",
    "#         correct += (predicted == labels).sum().item()\n",
    "\n",
    "# print('Accuracy of the network on the 10000 test images: %d %%' % (\n",
    "#     100 * correct / total))\n"
   ]
  },
  {
   "cell_type": "code",
   "execution_count": 30,
   "metadata": {},
   "outputs": [],
   "source": [
    "# save the current model\n",
    "PATH = './cnn_v3.pth'\n",
    "torch.save(net.state_dict(), PATH)\n"
   ]
  },
  {
   "cell_type": "code",
   "execution_count": 31,
   "metadata": {},
   "outputs": [],
   "source": [
    "# make new data loader for the test data\n",
    "data_dir = \"/home/bishoy/Fourth Year/Second Semester/Satellite Imagery/SI_Project/datasetResNet/validation\"\n",
    "transformation = Compose([Resize((64, 64)), ToTensor()])\n",
    "dataset = ImageFolder(data_dir, transform=transformation)\n",
    "test_loader = torch.utils.data.DataLoader(\n",
    "    dataset, batch_size=4, shuffle=True, num_workers=2)\n"
   ]
  },
  {
   "cell_type": "code",
   "execution_count": 32,
   "metadata": {},
   "outputs": [
    {
     "name": "stdout",
     "output_type": "stream",
     "text": [
      "Accuracy of the network on the test images: 78 %\n"
     ]
    }
   ],
   "source": [
    "# load model cnn_v2.pth\n",
    "mynet = Net()\n",
    "mynet = mynet.to(device)\n",
    "mynet.load_state_dict(torch.load('./cnn_v3.pth'))\n",
    "mynet.eval()\n",
    "\n",
    "# use the model to predict the class of a random image\n",
    "# Test the network on the test data\n",
    "correct = 0\n",
    "total = 0\n",
    "with torch.no_grad():\n",
    "    for data in test_loader:\n",
    "        images, labels = data\n",
    "        # move the data to the GPU\n",
    "        images = images.to(device)\n",
    "        labels = labels.to(device)\n",
    "        outputs = mynet(images)\n",
    "        _, predicted = torch.max(outputs.data, 1)\n",
    "        total += labels.size(0)\n",
    "        correct += (predicted == labels).sum().item()\n",
    "\n",
    "print('Accuracy of the network on the test images: %d %%' % (\n",
    "    100 * correct / total))\n"
   ]
  },
  {
   "cell_type": "code",
   "execution_count": null,
   "metadata": {},
   "outputs": [],
   "source": []
  }
 ],
 "metadata": {
  "kernelspec": {
   "display_name": "Python 3 (ipykernel)",
   "language": "python",
   "name": "python3"
  },
  "language_info": {
   "codemirror_mode": {
    "name": "ipython",
    "version": 3
   },
   "file_extension": ".py",
   "mimetype": "text/x-python",
   "name": "python",
   "nbconvert_exporter": "python",
   "pygments_lexer": "ipython3",
   "version": "3.10.9"
  }
 },
 "nbformat": 4,
 "nbformat_minor": 2
}
